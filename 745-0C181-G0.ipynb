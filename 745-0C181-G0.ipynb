{
 "cells": [
  {
   "cell_type": "code",
   "execution_count": 149,
   "id": "46481ad5",
   "metadata": {},
   "outputs": [],
   "source": [
    "import pandas as pd\n",
    "import numpy as np\n",
    "import matplotlib.pyplot as plt\n",
    "import seaborn as sns"
   ]
  },
  {
   "cell_type": "code",
   "execution_count": 161,
   "id": "f960de96",
   "metadata": {},
   "outputs": [
    {
     "name": "stdout",
     "output_type": "stream",
     "text": [
      "<class 'pandas.core.frame.DataFrame'>\n",
      "RangeIndex: 481 entries, 0 to 480\n",
      "Data columns (total 14 columns):\n",
      " #   Column         Non-Null Count  Dtype         \n",
      "---  ------         --------------  -----         \n",
      " 0   Unikey         481 non-null    int64         \n",
      " 1   Creation_Date  481 non-null    datetime64[ns]\n",
      " 2   Product        481 non-null    object        \n",
      " 3   Emp_Process    481 non-null    object        \n",
      " 4   SO             481 non-null    int64         \n",
      " 5   FailItem       481 non-null    object        \n",
      " 6   Item           388 non-null    object        \n",
      " 7   ReasonC        481 non-null    object        \n",
      " 8   Location       481 non-null    object        \n",
      " 9   smd_job        397 non-null    float64       \n",
      " 10  ESN            479 non-null    object        \n",
      " 11  FIFO           464 non-null    object        \n",
      " 12  Vendor         426 non-null    object        \n",
      " 13  Vendor D/C     407 non-null    object        \n",
      "dtypes: datetime64[ns](1), float64(1), int64(2), object(10)\n",
      "memory usage: 52.7+ KB\n"
     ]
    }
   ],
   "source": [
    "df = pd.read_excel('data.xlsx',converters={'FIFO':str})\n",
    "df.info()"
   ]
  },
  {
   "cell_type": "code",
   "execution_count": 162,
   "id": "70e61aa6",
   "metadata": {},
   "outputs": [],
   "source": [
    "df.drop('Unikey',axis=1, inplace=True)"
   ]
  },
  {
   "cell_type": "code",
   "execution_count": 163,
   "id": "7aaf2fd1",
   "metadata": {},
   "outputs": [
    {
     "data": {
      "text/html": [
       "<div>\n",
       "<style scoped>\n",
       "    .dataframe tbody tr th:only-of-type {\n",
       "        vertical-align: middle;\n",
       "    }\n",
       "\n",
       "    .dataframe tbody tr th {\n",
       "        vertical-align: top;\n",
       "    }\n",
       "\n",
       "    .dataframe thead th {\n",
       "        text-align: right;\n",
       "    }\n",
       "</style>\n",
       "<table border=\"1\" class=\"dataframe\">\n",
       "  <thead>\n",
       "    <tr style=\"text-align: right;\">\n",
       "      <th></th>\n",
       "      <th>Creation_Date</th>\n",
       "      <th>Product</th>\n",
       "      <th>Emp_Process</th>\n",
       "      <th>SO</th>\n",
       "      <th>FailItem</th>\n",
       "      <th>Item</th>\n",
       "      <th>ReasonC</th>\n",
       "      <th>Location</th>\n",
       "      <th>smd_job</th>\n",
       "      <th>ESN</th>\n",
       "      <th>FIFO</th>\n",
       "      <th>Vendor</th>\n",
       "      <th>Vendor D/C</th>\n",
       "      <th>Product2</th>\n",
       "    </tr>\n",
       "  </thead>\n",
       "  <tbody>\n",
       "    <tr>\n",
       "      <th>0</th>\n",
       "      <td>2021-06-29 08:16:49.000</td>\n",
       "      <td>012-04112-20</td>\n",
       "      <td>SMT</td>\n",
       "      <td>15538535</td>\n",
       "      <td>F119.組裝不良</td>\n",
       "      <td>745-0C181-G0</td>\n",
       "      <td>A50.其他</td>\n",
       "      <td>L904</td>\n",
       "      <td>15538535.0</td>\n",
       "      <td>3376593130</td>\n",
       "      <td>121420002758</td>\n",
       "      <td>NaN</td>\n",
       "      <td>1T100621T4635</td>\n",
       "      <td>04112</td>\n",
       "    </tr>\n",
       "    <tr>\n",
       "      <th>1</th>\n",
       "      <td>2021-09-02 10:46:46.000</td>\n",
       "      <td>012-04110-23</td>\n",
       "      <td>SMT</td>\n",
       "      <td>15602000</td>\n",
       "      <td>F44.按鍵測試不良</td>\n",
       "      <td>745-0C181-G0</td>\n",
       "      <td>A50.其他</td>\n",
       "      <td>L904</td>\n",
       "      <td>15602000.0</td>\n",
       "      <td>3387754600</td>\n",
       "      <td>1040220005823</td>\n",
       "      <td>線藝電子</td>\n",
       "      <td>1T041321T2766</td>\n",
       "      <td>04110</td>\n",
       "    </tr>\n",
       "    <tr>\n",
       "      <th>2</th>\n",
       "      <td>2022-01-15 11:53:08.237</td>\n",
       "      <td>011-05538-M4</td>\n",
       "      <td>Assy</td>\n",
       "      <td>15758144</td>\n",
       "      <td>F44.按鍵測試不良</td>\n",
       "      <td>745-0C181-G0</td>\n",
       "      <td>A4.缺件</td>\n",
       "      <td>L900</td>\n",
       "      <td>15764599.0</td>\n",
       "      <td>3404095788</td>\n",
       "      <td>1063020012635</td>\n",
       "      <td>線藝電子</td>\n",
       "      <td>1T041321T2766</td>\n",
       "      <td>05538</td>\n",
       "    </tr>\n",
       "    <tr>\n",
       "      <th>3</th>\n",
       "      <td>2022-02-16 16:02:50.067</td>\n",
       "      <td>011-05275-M7</td>\n",
       "      <td>Assy</td>\n",
       "      <td>15804792</td>\n",
       "      <td>F44.按鍵測試不良</td>\n",
       "      <td>745-0C181-G0</td>\n",
       "      <td>A116.撞件</td>\n",
       "      <td>L904</td>\n",
       "      <td>15803909.0</td>\n",
       "      <td>3408361511</td>\n",
       "      <td>1063020013068</td>\n",
       "      <td>線藝電子</td>\n",
       "      <td>1T100621T4635</td>\n",
       "      <td>05275</td>\n",
       "    </tr>\n",
       "    <tr>\n",
       "      <th>4</th>\n",
       "      <td>2022-02-19 13:05:55.627</td>\n",
       "      <td>011-05275-M6</td>\n",
       "      <td>Assy</td>\n",
       "      <td>15800336</td>\n",
       "      <td>F44.按鍵測試不良</td>\n",
       "      <td>745-0C181-G0</td>\n",
       "      <td>A5.反向(件)</td>\n",
       "      <td>L902</td>\n",
       "      <td>15800337.0</td>\n",
       "      <td>3408252236</td>\n",
       "      <td>1063020013068</td>\n",
       "      <td>線藝電子</td>\n",
       "      <td>NaN</td>\n",
       "      <td>05275</td>\n",
       "    </tr>\n",
       "    <tr>\n",
       "      <th>...</th>\n",
       "      <td>...</td>\n",
       "      <td>...</td>\n",
       "      <td>...</td>\n",
       "      <td>...</td>\n",
       "      <td>...</td>\n",
       "      <td>...</td>\n",
       "      <td>...</td>\n",
       "      <td>...</td>\n",
       "      <td>...</td>\n",
       "      <td>...</td>\n",
       "      <td>...</td>\n",
       "      <td>...</td>\n",
       "      <td>...</td>\n",
       "      <td>...</td>\n",
       "    </tr>\n",
       "    <tr>\n",
       "      <th>476</th>\n",
       "      <td>2022-01-13 19:10:27.923</td>\n",
       "      <td>010-02539-03</td>\n",
       "      <td>FT</td>\n",
       "      <td>15764621</td>\n",
       "      <td>F44.按鍵測試不良</td>\n",
       "      <td>745-0C181-G0</td>\n",
       "      <td>A10.零件壞(不良)</td>\n",
       "      <td>L903</td>\n",
       "      <td>15764622.0</td>\n",
       "      <td>3403594663</td>\n",
       "      <td>1050720010608</td>\n",
       "      <td>線藝電子</td>\n",
       "      <td>1T041321T2766</td>\n",
       "      <td>02539</td>\n",
       "    </tr>\n",
       "    <tr>\n",
       "      <th>477</th>\n",
       "      <td>2022-01-06 11:52:21.920</td>\n",
       "      <td>010-02539-03</td>\n",
       "      <td>FT</td>\n",
       "      <td>15764621</td>\n",
       "      <td>F44.按鍵測試不良</td>\n",
       "      <td>745-0C181-G0</td>\n",
       "      <td>A10.零件壞(不良)</td>\n",
       "      <td>L903</td>\n",
       "      <td>15764622.0</td>\n",
       "      <td>3403594515</td>\n",
       "      <td>1050720010608</td>\n",
       "      <td>線藝電子</td>\n",
       "      <td>1T041321T2766</td>\n",
       "      <td>02539</td>\n",
       "    </tr>\n",
       "    <tr>\n",
       "      <th>478</th>\n",
       "      <td>2022-01-05 16:58:58.927</td>\n",
       "      <td>010-02539-01</td>\n",
       "      <td>FT</td>\n",
       "      <td>15764619</td>\n",
       "      <td>F5737.按鍵_卡Key</td>\n",
       "      <td>745-0C181-G0</td>\n",
       "      <td>A10.零件壞(不良)</td>\n",
       "      <td>L903</td>\n",
       "      <td>15764620.0</td>\n",
       "      <td>3403593250</td>\n",
       "      <td>1050720010809</td>\n",
       "      <td>線藝電子</td>\n",
       "      <td>1T041321T2766</td>\n",
       "      <td>02539</td>\n",
       "    </tr>\n",
       "    <tr>\n",
       "      <th>479</th>\n",
       "      <td>2021-03-12 11:02:31.000</td>\n",
       "      <td>010-02539-01</td>\n",
       "      <td>Assy</td>\n",
       "      <td>15394768</td>\n",
       "      <td>F44.按鍵測試不良</td>\n",
       "      <td>745-0C181-G0</td>\n",
       "      <td>A50.其他</td>\n",
       "      <td>L902</td>\n",
       "      <td>577525.0</td>\n",
       "      <td>3364599898</td>\n",
       "      <td>NaN</td>\n",
       "      <td>NaN</td>\n",
       "      <td>1T033121T2237</td>\n",
       "      <td>02539</td>\n",
       "    </tr>\n",
       "    <tr>\n",
       "      <th>480</th>\n",
       "      <td>2021-11-29 12:24:56.333</td>\n",
       "      <td>010-02539-00</td>\n",
       "      <td>FT</td>\n",
       "      <td>15722613</td>\n",
       "      <td>F99.按鍵(Keypad)無作用</td>\n",
       "      <td>745-0C181-G0</td>\n",
       "      <td>A10.零件壞(不良)</td>\n",
       "      <td>L900</td>\n",
       "      <td>15722607.0</td>\n",
       "      <td>3398816555</td>\n",
       "      <td>1060320015175</td>\n",
       "      <td>線藝電子</td>\n",
       "      <td>1T030921T2266</td>\n",
       "      <td>02539</td>\n",
       "    </tr>\n",
       "  </tbody>\n",
       "</table>\n",
       "<p>481 rows × 14 columns</p>\n",
       "</div>"
      ],
      "text/plain": [
       "              Creation_Date       Product Emp_Process        SO  \\\n",
       "0   2021-06-29 08:16:49.000  012-04112-20         SMT  15538535   \n",
       "1   2021-09-02 10:46:46.000  012-04110-23         SMT  15602000   \n",
       "2   2022-01-15 11:53:08.237  011-05538-M4        Assy  15758144   \n",
       "3   2022-02-16 16:02:50.067  011-05275-M7        Assy  15804792   \n",
       "4   2022-02-19 13:05:55.627  011-05275-M6        Assy  15800336   \n",
       "..                      ...           ...         ...       ...   \n",
       "476 2022-01-13 19:10:27.923  010-02539-03          FT  15764621   \n",
       "477 2022-01-06 11:52:21.920  010-02539-03          FT  15764621   \n",
       "478 2022-01-05 16:58:58.927  010-02539-01          FT  15764619   \n",
       "479 2021-03-12 11:02:31.000  010-02539-01        Assy  15394768   \n",
       "480 2021-11-29 12:24:56.333  010-02539-00          FT  15722613   \n",
       "\n",
       "              FailItem          Item      ReasonC Location     smd_job  \\\n",
       "0            F119.組裝不良  745-0C181-G0       A50.其他     L904  15538535.0   \n",
       "1           F44.按鍵測試不良  745-0C181-G0       A50.其他     L904  15602000.0   \n",
       "2           F44.按鍵測試不良  745-0C181-G0        A4.缺件     L900  15764599.0   \n",
       "3           F44.按鍵測試不良  745-0C181-G0      A116.撞件     L904  15803909.0   \n",
       "4           F44.按鍵測試不良  745-0C181-G0     A5.反向(件)     L902  15800337.0   \n",
       "..                 ...           ...          ...      ...         ...   \n",
       "476         F44.按鍵測試不良  745-0C181-G0  A10.零件壞(不良)     L903  15764622.0   \n",
       "477         F44.按鍵測試不良  745-0C181-G0  A10.零件壞(不良)     L903  15764622.0   \n",
       "478      F5737.按鍵_卡Key  745-0C181-G0  A10.零件壞(不良)     L903  15764620.0   \n",
       "479         F44.按鍵測試不良  745-0C181-G0       A50.其他     L902    577525.0   \n",
       "480  F99.按鍵(Keypad)無作用  745-0C181-G0  A10.零件壞(不良)     L900  15722607.0   \n",
       "\n",
       "            ESN           FIFO Vendor     Vendor D/C Product2  \n",
       "0    3376593130   121420002758    NaN  1T100621T4635    04112  \n",
       "1    3387754600  1040220005823   線藝電子  1T041321T2766    04110  \n",
       "2    3404095788  1063020012635   線藝電子  1T041321T2766    05538  \n",
       "3    3408361511  1063020013068   線藝電子  1T100621T4635    05275  \n",
       "4    3408252236  1063020013068   線藝電子            NaN    05275  \n",
       "..          ...            ...    ...            ...      ...  \n",
       "476  3403594663  1050720010608   線藝電子  1T041321T2766    02539  \n",
       "477  3403594515  1050720010608   線藝電子  1T041321T2766    02539  \n",
       "478  3403593250  1050720010809   線藝電子  1T041321T2766    02539  \n",
       "479  3364599898            NaN    NaN  1T033121T2237    02539  \n",
       "480  3398816555  1060320015175   線藝電子  1T030921T2266    02539  \n",
       "\n",
       "[481 rows x 14 columns]"
      ]
     },
     "execution_count": 163,
     "metadata": {},
     "output_type": "execute_result"
    }
   ],
   "source": [
    "df['Product2']= df['Product'].apply(lambda x:x.split('-')[1])\n",
    "df"
   ]
  },
  {
   "cell_type": "code",
   "execution_count": 164,
   "id": "b54c8c0e",
   "metadata": {},
   "outputs": [],
   "source": [
    "def product(x):\n",
    "    if x == '04112' or x=='02541' or x=='05276':\n",
    "        return 'Fenix 7X'\n",
    "    elif x == '04111' or x=='02540' or x=='05275':\n",
    "        return 'Fenix 7'\n",
    "    elif x == '04110' or x=='02539' or x=='05274':\n",
    "        return 'Fenix 7S'"
   ]
  },
  {
   "cell_type": "code",
   "execution_count": 165,
   "id": "ce69d85d",
   "metadata": {},
   "outputs": [],
   "source": [
    "df['P3'] = df['Product2'].apply(product)"
   ]
  },
  {
   "cell_type": "code",
   "execution_count": 166,
   "id": "c907df2a",
   "metadata": {},
   "outputs": [
    {
     "data": {
      "text/plain": [
       "Fenix 7     358\n",
       "Fenix 7X     97\n",
       "Fenix 7S     23\n",
       "Name: P3, dtype: int64"
      ]
     },
     "execution_count": 166,
     "metadata": {},
     "output_type": "execute_result"
    }
   ],
   "source": [
    "df['P3'].value_counts()"
   ]
  },
  {
   "cell_type": "code",
   "execution_count": 167,
   "id": "7d9c0eb9",
   "metadata": {},
   "outputs": [
    {
     "name": "stdout",
     "output_type": "stream",
     "text": [
      "<class 'pandas.core.frame.DataFrame'>\n",
      "Int64Index: 384 entries, 0 to 480\n",
      "Data columns (total 15 columns):\n",
      " #   Column         Non-Null Count  Dtype         \n",
      "---  ------         --------------  -----         \n",
      " 0   Creation_Date  384 non-null    datetime64[ns]\n",
      " 1   Product        384 non-null    object        \n",
      " 2   Emp_Process    384 non-null    object        \n",
      " 3   SO             384 non-null    int64         \n",
      " 4   FailItem       384 non-null    object        \n",
      " 5   Item           291 non-null    object        \n",
      " 6   ReasonC        384 non-null    object        \n",
      " 7   Location       384 non-null    object        \n",
      " 8   smd_job        377 non-null    float64       \n",
      " 9   ESN            382 non-null    object        \n",
      " 10  FIFO           368 non-null    object        \n",
      " 11  Vendor         345 non-null    object        \n",
      " 12  Vendor D/C     326 non-null    object        \n",
      " 13  Product2       384 non-null    object        \n",
      " 14  P3             381 non-null    object        \n",
      "dtypes: datetime64[ns](1), float64(1), int64(1), object(12)\n",
      "memory usage: 48.0+ KB\n"
     ]
    }
   ],
   "source": [
    "dfa = df[df['Emp_Process']!='AOI']\n",
    "dfa.info()"
   ]
  },
  {
   "cell_type": "code",
   "execution_count": 168,
   "id": "6a8d66b7",
   "metadata": {},
   "outputs": [
    {
     "data": {
      "text/plain": [
       "<AxesSubplot:xlabel='Location', ylabel='count'>"
      ]
     },
     "execution_count": 168,
     "metadata": {},
     "output_type": "execute_result"
    },
    {
     "data": {
      "image/png": "[encoded data removed]",
      "text/plain": [
       "<Figure size 432x288 with 1 Axes>"
      ]
     },
     "metadata": {
      "needs_background": "light"
     },
     "output_type": "display_data"
    }
   ],
   "source": [
    "sns.countplot(x='Location', hue='P3', data=dfa)"
   ]
  },
  {
   "cell_type": "code",
   "execution_count": 169,
   "id": "f5f11dba",
   "metadata": {},
   "outputs": [
    {
     "data": {
      "text/plain": [
       "<AxesSubplot:xlabel='Vendor', ylabel='count'>"
      ]
     },
     "execution_count": 169,
     "metadata": {},
     "output_type": "execute_result"
    },
    {
     "name": "stderr",
     "output_type": "stream",
     "text": [
      "C:\\Users\\wangcooper\\Anaconda3\\lib\\site-packages\\matplotlib\\backends\\backend_agg.py:238: RuntimeWarning: Glyph 32218 missing from current font.\n",
      "  font.set_text(s, 0.0, flags=flags)\n",
      "C:\\Users\\wangcooper\\Anaconda3\\lib\\site-packages\\matplotlib\\backends\\backend_agg.py:238: RuntimeWarning: Glyph 34269 missing from current font.\n",
      "  font.set_text(s, 0.0, flags=flags)\n",
      "C:\\Users\\wangcooper\\Anaconda3\\lib\\site-packages\\matplotlib\\backends\\backend_agg.py:238: RuntimeWarning: Glyph 38651 missing from current font.\n",
      "  font.set_text(s, 0.0, flags=flags)\n",
      "C:\\Users\\wangcooper\\Anaconda3\\lib\\site-packages\\matplotlib\\backends\\backend_agg.py:238: RuntimeWarning: Glyph 23376 missing from current font.\n",
      "  font.set_text(s, 0.0, flags=flags)\n",
      "C:\\Users\\wangcooper\\Anaconda3\\lib\\site-packages\\matplotlib\\backends\\backend_agg.py:201: RuntimeWarning: Glyph 32218 missing from current font.\n",
      "  font.set_text(s, 0, flags=flags)\n",
      "C:\\Users\\wangcooper\\Anaconda3\\lib\\site-packages\\matplotlib\\backends\\backend_agg.py:201: RuntimeWarning: Glyph 34269 missing from current font.\n",
      "  font.set_text(s, 0, flags=flags)\n",
      "C:\\Users\\wangcooper\\Anaconda3\\lib\\site-packages\\matplotlib\\backends\\backend_agg.py:201: RuntimeWarning: Glyph 38651 missing from current font.\n",
      "  font.set_text(s, 0, flags=flags)\n",
      "C:\\Users\\wangcooper\\Anaconda3\\lib\\site-packages\\matplotlib\\backends\\backend_agg.py:201: RuntimeWarning: Glyph 23376 missing from current font.\n",
      "  font.set_text(s, 0, flags=flags)\n"
     ]
    },
    {
     "data": {
      "image/png": "[encoded data removed]",
      "text/plain": [
       "<Figure size 432x288 with 1 Axes>"
      ]
     },
     "metadata": {
      "needs_background": "light"
     },
     "output_type": "display_data"
    }
   ],
   "source": [
    "sns.countplot(x='Vendor', hue='P3', data=dfa)"
   ]
  },
  {
   "cell_type": "code",
   "execution_count": 170,
   "id": "81c8afad",
   "metadata": {},
   "outputs": [
    {
     "data": {
      "text/plain": [
       "<AxesSubplot:xlabel='Vendor D/C', ylabel='count'>"
      ]
     },
     "execution_count": 170,
     "metadata": {},
     "output_type": "execute_result"
    },
    {
     "data": {
      "image/png": "[encoded data removed]",
      "text/plain": [
       "<Figure size 432x288 with 1 Axes>"
      ]
     },
     "metadata": {
      "needs_background": "light"
     },
     "output_type": "display_data"
    }
   ],
   "source": [
    "sns.countplot(x='Vendor D/C', data=df)"
   ]
  },
  {
   "cell_type": "code",
   "execution_count": 171,
   "id": "d2ad0947",
   "metadata": {},
   "outputs": [
    {
     "data": {
      "text/plain": [
       "1T041321T2766    136\n",
       "1T113021T2076     28\n",
       "1T100621T4635     17\n",
       "9D2119            16\n",
       "1T030921T2266     15\n",
       "Name: Vendor D/C, dtype: int64"
      ]
     },
     "execution_count": 171,
     "metadata": {},
     "output_type": "execute_result"
    },
    {
     "data": {
      "image/png": "[encoded data removed]",
      "text/plain": [
       "<Figure size 432x288 with 1 Axes>"
      ]
     },
     "metadata": {
      "needs_background": "light"
     },
     "output_type": "display_data"
    }
   ],
   "source": [
    "dfa['Vendor D/C'].value_counts().head(5).plot(kind='bar')\n",
    "dfa['Vendor D/C'].value_counts().head(5)"
   ]
  },
  {
   "cell_type": "code",
   "execution_count": 185,
   "id": "3613cb9e",
   "metadata": {},
   "outputs": [
    {
     "data": {
      "text/plain": [
       "<AxesSubplot:>"
      ]
     },
     "execution_count": 185,
     "metadata": {},
     "output_type": "execute_result"
    },
    {
     "data": {
      "image/png": "[encoded data removed]",
      "text/plain": [
       "<Figure size 432x288 with 1 Axes>"
      ]
     },
     "metadata": {
      "needs_background": "light"
     },
     "output_type": "display_data"
    }
   ],
   "source": [
    "dfa[dfa['Vendor D/C']=='1T041321T2766']['P3'].value_counts().plot(kind='bar')"
   ]
  },
  {
   "cell_type": "code",
   "execution_count": 175,
   "id": "7e725b90",
   "metadata": {},
   "outputs": [
    {
     "data": {
      "text/plain": [
       "1063020013047    6\n",
       "1063020013028    4\n",
       "1111520003342    4\n",
       "1063020012906    4\n",
       "1111520003343    4\n",
       "1063020013044    4\n",
       "1063020012956    4\n",
       "1063020012977    4\n",
       "1063020012966    3\n",
       "1063020012639    3\n",
       "Name: FIFO, dtype: int64"
      ]
     },
     "execution_count": 175,
     "metadata": {},
     "output_type": "execute_result"
    }
   ],
   "source": [
    "dfa[dfa['Vendor D/C']=='1T041321T2766']['FIFO'].value_counts().head(10)"
   ]
  },
  {
   "cell_type": "code",
   "execution_count": 173,
   "id": "413dcac7",
   "metadata": {},
   "outputs": [
    {
     "data": {
      "text/html": [
       "<div>\n",
       "<style scoped>\n",
       "    .dataframe tbody tr th:only-of-type {\n",
       "        vertical-align: middle;\n",
       "    }\n",
       "\n",
       "    .dataframe tbody tr th {\n",
       "        vertical-align: top;\n",
       "    }\n",
       "\n",
       "    .dataframe thead th {\n",
       "        text-align: right;\n",
       "    }\n",
       "</style>\n",
       "<table border=\"1\" class=\"dataframe\">\n",
       "  <thead>\n",
       "    <tr style=\"text-align: right;\">\n",
       "      <th></th>\n",
       "      <th>Creation_Date</th>\n",
       "      <th>Product</th>\n",
       "      <th>Emp_Process</th>\n",
       "      <th>SO</th>\n",
       "      <th>FailItem</th>\n",
       "      <th>Item</th>\n",
       "      <th>ReasonC</th>\n",
       "      <th>Location</th>\n",
       "      <th>smd_job</th>\n",
       "      <th>ESN</th>\n",
       "      <th>FIFO</th>\n",
       "      <th>Vendor</th>\n",
       "      <th>Vendor D/C</th>\n",
       "      <th>Product2</th>\n",
       "      <th>P3</th>\n",
       "    </tr>\n",
       "  </thead>\n",
       "  <tbody>\n",
       "    <tr>\n",
       "      <th>247</th>\n",
       "      <td>2022-01-26 08:11:27.387</td>\n",
       "      <td>010-02540-31</td>\n",
       "      <td>Assy</td>\n",
       "      <td>15775491</td>\n",
       "      <td>F44.按鍵測試不良</td>\n",
       "      <td>745-0C181-G0</td>\n",
       "      <td>A116.撞件</td>\n",
       "      <td>L903</td>\n",
       "      <td>15775492.0</td>\n",
       "      <td>3405945186</td>\n",
       "      <td>1063020013047</td>\n",
       "      <td>線藝電子</td>\n",
       "      <td>1T041321T2766</td>\n",
       "      <td>02540</td>\n",
       "      <td>Fenix 7</td>\n",
       "    </tr>\n",
       "    <tr>\n",
       "      <th>248</th>\n",
       "      <td>2022-01-24 22:28:00.840</td>\n",
       "      <td>010-02540-31</td>\n",
       "      <td>Assy</td>\n",
       "      <td>15775491</td>\n",
       "      <td>F44.按鍵測試不良</td>\n",
       "      <td>745-0C181-G0</td>\n",
       "      <td>A116.撞件</td>\n",
       "      <td>L900</td>\n",
       "      <td>15775492.0</td>\n",
       "      <td>3405945304</td>\n",
       "      <td>1063020013047</td>\n",
       "      <td>線藝電子</td>\n",
       "      <td>1T041321T2766</td>\n",
       "      <td>02540</td>\n",
       "      <td>Fenix 7</td>\n",
       "    </tr>\n",
       "    <tr>\n",
       "      <th>249</th>\n",
       "      <td>2022-01-26 08:23:42.140</td>\n",
       "      <td>010-02540-31</td>\n",
       "      <td>Assy</td>\n",
       "      <td>15775491</td>\n",
       "      <td>F44.按鍵測試不良</td>\n",
       "      <td>745-0C181-G0</td>\n",
       "      <td>A116.撞件</td>\n",
       "      <td>L903</td>\n",
       "      <td>15775492.0</td>\n",
       "      <td>3405945255</td>\n",
       "      <td>1063020013047</td>\n",
       "      <td>線藝電子</td>\n",
       "      <td>1T041321T2766</td>\n",
       "      <td>02540</td>\n",
       "      <td>Fenix 7</td>\n",
       "    </tr>\n",
       "    <tr>\n",
       "      <th>250</th>\n",
       "      <td>2022-01-26 08:43:16.330</td>\n",
       "      <td>010-02540-31</td>\n",
       "      <td>Assy</td>\n",
       "      <td>15775491</td>\n",
       "      <td>F44.按鍵測試不良</td>\n",
       "      <td>745-0C181-G0</td>\n",
       "      <td>A116.撞件</td>\n",
       "      <td>L904</td>\n",
       "      <td>15775492.0</td>\n",
       "      <td>3405945089</td>\n",
       "      <td>1063020013047</td>\n",
       "      <td>線藝電子</td>\n",
       "      <td>1T041321T2766</td>\n",
       "      <td>02540</td>\n",
       "      <td>Fenix 7</td>\n",
       "    </tr>\n",
       "    <tr>\n",
       "      <th>251</th>\n",
       "      <td>2022-01-26 10:28:39.250</td>\n",
       "      <td>010-02540-31</td>\n",
       "      <td>Assy</td>\n",
       "      <td>15775491</td>\n",
       "      <td>F44.按鍵測試不良</td>\n",
       "      <td>745-0C181-G0</td>\n",
       "      <td>A116.撞件</td>\n",
       "      <td>L904</td>\n",
       "      <td>15775492.0</td>\n",
       "      <td>3405945598</td>\n",
       "      <td>1063020013047</td>\n",
       "      <td>線藝電子</td>\n",
       "      <td>1T041321T2766</td>\n",
       "      <td>02540</td>\n",
       "      <td>Fenix 7</td>\n",
       "    </tr>\n",
       "    <tr>\n",
       "      <th>252</th>\n",
       "      <td>2022-01-26 11:29:47.450</td>\n",
       "      <td>010-02540-31</td>\n",
       "      <td>Assy</td>\n",
       "      <td>15775491</td>\n",
       "      <td>F44.按鍵測試不良</td>\n",
       "      <td>745-0C181-G0</td>\n",
       "      <td>A116.撞件</td>\n",
       "      <td>L903</td>\n",
       "      <td>15775492.0</td>\n",
       "      <td>3405945368</td>\n",
       "      <td>1063020013047</td>\n",
       "      <td>線藝電子</td>\n",
       "      <td>1T111821T3875</td>\n",
       "      <td>02540</td>\n",
       "      <td>Fenix 7</td>\n",
       "    </tr>\n",
       "    <tr>\n",
       "      <th>253</th>\n",
       "      <td>2022-01-24 18:03:55.367</td>\n",
       "      <td>010-02540-31</td>\n",
       "      <td>Assy</td>\n",
       "      <td>15775491</td>\n",
       "      <td>F44.按鍵測試不良</td>\n",
       "      <td>745-0C181-G0</td>\n",
       "      <td>A10.零件壞(不良)</td>\n",
       "      <td>L901</td>\n",
       "      <td>15775492.0</td>\n",
       "      <td>3405944961</td>\n",
       "      <td>1063020013047</td>\n",
       "      <td>線藝電子</td>\n",
       "      <td>1T041321T2766</td>\n",
       "      <td>02540</td>\n",
       "      <td>Fenix 7</td>\n",
       "    </tr>\n",
       "  </tbody>\n",
       "</table>\n",
       "</div>"
      ],
      "text/plain": [
       "              Creation_Date       Product Emp_Process        SO    FailItem  \\\n",
       "247 2022-01-26 08:11:27.387  010-02540-31        Assy  15775491  F44.按鍵測試不良   \n",
       "248 2022-01-24 22:28:00.840  010-02540-31        Assy  15775491  F44.按鍵測試不良   \n",
       "249 2022-01-26 08:23:42.140  010-02540-31        Assy  15775491  F44.按鍵測試不良   \n",
       "250 2022-01-26 08:43:16.330  010-02540-31        Assy  15775491  F44.按鍵測試不良   \n",
       "251 2022-01-26 10:28:39.250  010-02540-31        Assy  15775491  F44.按鍵測試不良   \n",
       "252 2022-01-26 11:29:47.450  010-02540-31        Assy  15775491  F44.按鍵測試不良   \n",
       "253 2022-01-24 18:03:55.367  010-02540-31        Assy  15775491  F44.按鍵測試不良   \n",
       "\n",
       "             Item      ReasonC Location     smd_job         ESN  \\\n",
       "247  745-0C181-G0      A116.撞件     L903  15775492.0  3405945186   \n",
       "248  745-0C181-G0      A116.撞件     L900  15775492.0  3405945304   \n",
       "249  745-0C181-G0      A116.撞件     L903  15775492.0  3405945255   \n",
       "250  745-0C181-G0      A116.撞件     L904  15775492.0  3405945089   \n",
       "251  745-0C181-G0      A116.撞件     L904  15775492.0  3405945598   \n",
       "252  745-0C181-G0      A116.撞件     L903  15775492.0  3405945368   \n",
       "253  745-0C181-G0  A10.零件壞(不良)     L901  15775492.0  3405944961   \n",
       "\n",
       "              FIFO Vendor     Vendor D/C Product2       P3  \n",
       "247  1063020013047   線藝電子  1T041321T2766    02540  Fenix 7  \n",
       "248  1063020013047   線藝電子  1T041321T2766    02540  Fenix 7  \n",
       "249  1063020013047   線藝電子  1T041321T2766    02540  Fenix 7  \n",
       "250  1063020013047   線藝電子  1T041321T2766    02540  Fenix 7  \n",
       "251  1063020013047   線藝電子  1T041321T2766    02540  Fenix 7  \n",
       "252  1063020013047   線藝電子  1T111821T3875    02540  Fenix 7  \n",
       "253  1063020013047   線藝電子  1T041321T2766    02540  Fenix 7  "
      ]
     },
     "execution_count": 173,
     "metadata": {},
     "output_type": "execute_result"
    }
   ],
   "source": [
    "dfa[dfa['FIFO']=='1063020013047']"
   ]
  },
  {
   "cell_type": "code",
   "execution_count": 182,
   "id": "3759bb93",
   "metadata": {},
   "outputs": [
    {
     "data": {
      "text/plain": [
       "15768544    12\n",
       "15791525    10\n",
       "15768498     9\n",
       "15765411     8\n",
       "15791539     8\n",
       "15768506     8\n",
       "15791538     8\n",
       "15775491     7\n",
       "15416629     7\n",
       "15758121     7\n",
       "Name: SO, dtype: int64"
      ]
     },
     "execution_count": 182,
     "metadata": {},
     "output_type": "execute_result"
    }
   ],
   "source": [
    "df.SO.sort_values(ascending=True).value_counts().head(10)"
   ]
  },
  {
   "cell_type": "code",
   "execution_count": null,
   "id": "367e52d8",
   "metadata": {},
   "outputs": [],
   "source": []
  }
 ],
 "metadata": {
  "kernelspec": {
   "display_name": "Python 3",
   "language": "python",
   "name": "python3"
  },
  "language_info": {
   "codemirror_mode": {
    "name": "ipython",
    "version": 3
   },
   "file_extension": ".py",
   "mimetype": "text/x-python",
   "name": "python",
   "nbconvert_exporter": "python",
   "pygments_lexer": "ipython3",
   "version": "3.8.8"
  }
 },
 "nbformat": 4,
 "nbformat_minor": 5
}
